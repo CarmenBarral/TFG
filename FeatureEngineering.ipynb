{
  "nbformat": 4,
  "nbformat_minor": 0,
  "metadata": {
    "colab": {
      "provenance": [],
      "mount_file_id": "18Ue489tkyHuH7KGpKyKEAMkYf2PSutsk",
      "authorship_tag": "ABX9TyNJ63M7m1mu+aFSYGcbwjDQ",
      "include_colab_link": true
    },
    "kernelspec": {
      "name": "python3",
      "display_name": "Python 3"
    },
    "language_info": {
      "name": "python"
    }
  },
  "cells": [
    {
      "cell_type": "markdown",
      "metadata": {
        "id": "view-in-github",
        "colab_type": "text"
      },
      "source": [
        "<a href=\"https://colab.research.google.com/github/CarmenBarral/TFG/blob/main/FeatureEngineering.ipynb\" target=\"_parent\"><img src=\"https://colab.research.google.com/assets/colab-badge.svg\" alt=\"Open In Colab\"/></a>"
      ]
    },
    {
      "cell_type": "code",
      "execution_count": 1,
      "metadata": {
        "id": "E7X9jRxpNrQu"
      },
      "outputs": [],
      "source": [
        "import numpy as np\n",
        "import cv2 as cv\n",
        "import csv\n",
        "import matplotlib.pyplot as plt"
      ]
    },
    {
      "cell_type": "code",
      "source": [],
      "metadata": {
        "id": "MmiN_rFnNzgR"
      },
      "execution_count": null,
      "outputs": []
    },
    {
      "cell_type": "code",
      "source": [
        "from coco import COCO\n",
        "import numpy as np\n",
        "import matplotlib.pyplot as plt\n",
        "ann_file='/content/drive/MyDrive/TFG/Datasets/Json_Files/traincoco.json'\n",
        "coco=COCO(ann_file)"
      ],
      "metadata": {
        "colab": {
          "base_uri": "https://localhost:8080/"
        },
        "id": "r21s4kl36ELm",
        "outputId": "538b6f7a-43d2-42f6-b60b-6c5e8bd68d00"
      },
      "execution_count": 3,
      "outputs": [
        {
          "output_type": "stream",
          "name": "stdout",
          "text": [
            "loading annotations into memory...\n",
            "Done (t=1.13s)\n",
            "creating index...\n",
            "index created!\n"
          ]
        }
      ]
    },
    {
      "cell_type": "code",
      "source": [
        "img_ids=coco.getImgIds()"
      ],
      "metadata": {
        "id": "KuG9lMxw6Umo"
      },
      "execution_count": 4,
      "outputs": []
    },
    {
      "cell_type": "code",
      "source": [
        "img_info=coco.loadImgs(img_ids)"
      ],
      "metadata": {
        "id": "mFk9Yj6p6dv5"
      },
      "execution_count": 5,
      "outputs": []
    },
    {
      "cell_type": "code",
      "source": [
        "nombrefiles=[]\n",
        "for i in range(len(img_info)):\n",
        "  nombrefiles.append(img_info[i]['file_name'])"
      ],
      "metadata": {
        "id": "Xbts5lN-6sIW"
      },
      "execution_count": 6,
      "outputs": []
    },
    {
      "cell_type": "code",
      "source": [
        "ListaNombres=[]\n",
        "for i in range(len(nombrefiles)):\n",
        "  ListaNombres.append('/content/drive/MyDrive/TFG/Datasets/Pictures/train/'+nombrefiles[i])"
      ],
      "metadata": {
        "id": "CpBfyKlj6tJ2"
      },
      "execution_count": 7,
      "outputs": []
    },
    {
      "cell_type": "code",
      "source": [
        "DatasetFE={}"
      ],
      "metadata": {
        "id": "13LdWDwh6woj"
      },
      "execution_count": 8,
      "outputs": []
    },
    {
      "cell_type": "code",
      "source": [
        "for i in range(len(ListaNombres)):\n",
        "  img = cv.imread(ListaNombres[i], cv.IMREAD_GRAYSCALE) # Consider changing ListImages[0] to ListaNombres[i] to iterate through all images\n",
        "  assert img is not None, \"file could not be read, check with os.path.exists()\"\n",
        "  ret,thresh = cv.threshold(img,127,255,0)\n",
        "  contours,hierarchy = cv.findContours(thresh, 1, 2)\n",
        "\n",
        "  cnt = contours[0]\n",
        "  M = cv.moments(cnt)\n",
        "  if M['m00'] == 0:\n",
        "    cx=0\n",
        "    cy=0\n",
        "  else:\n",
        "    cx = int(M['m10']/M['m00'])\n",
        "    cy = int(M['m01']/M['m00'])\n",
        "  area = cv.contourArea(cnt)\n",
        "  perimeter = cv.arcLength(cnt,False)\n",
        "\n",
        "  # Create a nested dictionary for the current image if it doesn't exist\n",
        "  if nombrefiles[i] not in DatasetFE:\n",
        "    DatasetFE[nombrefiles[i]] = {}\n",
        "\n",
        "  DatasetFE[nombrefiles[i]]['cx'] = cx\n",
        "  DatasetFE[nombrefiles[i]]['cy'] = cy\n",
        "  DatasetFE[nombrefiles[i]]['area'] = area\n",
        "  DatasetFE[nombrefiles[i]]['perimeter'] = perimeter"
      ],
      "metadata": {
        "id": "_sIdu666A2Cx"
      },
      "execution_count": 9,
      "outputs": []
    },
    {
      "cell_type": "code",
      "source": [
        "columnasFENOIDNOPeso=['cx', 'cy', 'area', 'perimeter','cxcy','area/perimetro','cxarea','cyarea']\n",
        "columnasFEIDNOPeso=['id', 'cx', 'cy', 'area', 'perimeter','cxcy','area/perimetro','cxarea','cyarea']"
      ],
      "metadata": {
        "id": "RgQxEOUqEVfV"
      },
      "execution_count": 10,
      "outputs": []
    },
    {
      "cell_type": "code",
      "source": [
        "ids=[]\n",
        "for id in nombrefiles:\n",
        "  ids.append(id[8:12])\n"
      ],
      "metadata": {
        "id": "QtbguATFEysz"
      },
      "execution_count": 11,
      "outputs": []
    },
    {
      "cell_type": "code",
      "source": [
        "coursesFENOIDNOPeso=[]\n",
        "for i in range(len(DatasetFE)):\n",
        "  dic={}\n",
        "  dic['cx']=DatasetFE[nombrefiles[i]]['cx']\n",
        "  dic['cy']=DatasetFE[nombrefiles[i]]['cy']\n",
        "  dic['area']=DatasetFE[nombrefiles[i]]['area']\n",
        "  dic['perimeter']=DatasetFE[nombrefiles[i]]['perimeter']\n",
        "  dic['cxcy'] = DatasetFE[nombrefiles[i]]['cx']*DatasetFE[nombrefiles[i]]['cy']\n",
        "  if DatasetFE[nombrefiles[i]]['perimeter'] == 0:\n",
        "    dic['area/perimetro'] = 0\n",
        "  else:\n",
        "    dic['area/perimetro'] = DatasetFE[nombrefiles[i]]['area']/DatasetFE[nombrefiles[i]]['perimeter']\n",
        "  dic['cxarea'] = DatasetFE[nombrefiles[i]]['cx']*DatasetFE[nombrefiles[i]]['area']\n",
        "  dic['cyarea'] = DatasetFE[nombrefiles[i]]['cy']*DatasetFE[nombrefiles[i]]['area']\n",
        "  coursesFENOIDNOPeso.append(dic)"
      ],
      "metadata": {
        "id": "xaRGpbpWEoou"
      },
      "execution_count": 13,
      "outputs": []
    },
    {
      "cell_type": "code",
      "source": [
        "coursesFEIDNOPeso=[]\n",
        "for i  in range(len(DatasetFE)):\n",
        "  dic={}\n",
        "  dic['id']=ids[i]\n",
        "  dic['cx']=DatasetFE[nombrefiles[i]]['cx']\n",
        "  dic['cy']=DatasetFE[nombrefiles[i]]['cy']\n",
        "  dic['area']=DatasetFE[nombrefiles[i]]['area']\n",
        "  dic['perimeter']=DatasetFE[nombrefiles[i]]['perimeter']\n",
        "  dic['cxcy'] = DatasetFE[nombrefiles[i]]['cx']*DatasetFE[nombrefiles[i]]['cy']\n",
        "  if DatasetFE[nombrefiles[i]]['perimeter'] == 0:\n",
        "    dic['area/perimetro'] = 0\n",
        "  else:\n",
        "    dic['area/perimetro'] = DatasetFE[nombrefiles[i]]['area']/DatasetFE[nombrefiles[i]]['perimeter']\n",
        "  dic['cxarea'] = DatasetFE[nombrefiles[i]]['cx']*DatasetFE[nombrefiles[i]]['area']\n",
        "  dic['cyarea'] = DatasetFE[nombrefiles[i]]['cy']*DatasetFE[nombrefiles[i]]['area']\n",
        "  coursesFEIDNOPeso.append(dic)"
      ],
      "metadata": {
        "id": "NVlwQ-QhIOhK"
      },
      "execution_count": 14,
      "outputs": []
    },
    {
      "cell_type": "code",
      "source": [
        "with open('DatasetFENOIDNOPeso.csv', 'w', encoding='UTF8', newline='') as f:\n",
        "    writer = csv.DictWriter(f, fieldnames=columnasFENOIDNOPeso)\n",
        "    writer.writeheader()\n",
        "    for courseFENOIDNOPeso in coursesFENOIDNOPeso:\n",
        "        writer.writerow(courseFENOIDNOPeso)"
      ],
      "metadata": {
        "id": "7rq1Na9DInYo"
      },
      "execution_count": 18,
      "outputs": []
    },
    {
      "cell_type": "code",
      "source": [
        "with open('DatasetFEIDNOPeso.csv', 'w', encoding='UTF8', newline='') as f:\n",
        "    writer = csv.DictWriter(f, fieldnames=columnasFEIDNOPeso)\n",
        "    writer.writeheader()\n",
        "    for courseFEIDNOPeso in coursesFEIDNOPeso:\n",
        "        writer.writerow(courseFEIDNOPeso)"
      ],
      "metadata": {
        "id": "T494JJgHJAhv"
      },
      "execution_count": 19,
      "outputs": []
    }
  ]
}
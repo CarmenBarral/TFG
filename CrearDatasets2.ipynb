{
  "nbformat": 4,
  "nbformat_minor": 0,
  "metadata": {
    "colab": {
      "provenance": [],
      "mount_file_id": "1a0Hoa6YC3s2QG2mpHfdmAYPwHWaHz7yX",
      "authorship_tag": "ABX9TyNyqKMV8GIL7Zl1GOKynWdp",
      "include_colab_link": true
    },
    "kernelspec": {
      "name": "python3",
      "display_name": "Python 3"
    },
    "language_info": {
      "name": "python"
    }
  },
  "cells": [
    {
      "cell_type": "markdown",
      "metadata": {
        "id": "view-in-github",
        "colab_type": "text"
      },
      "source": [
        "<a href=\"https://colab.research.google.com/github/CarmenBarral/TFG/blob/main/CrearDatasets2.ipynb\" target=\"_parent\"><img src=\"https://colab.research.google.com/assets/colab-badge.svg\" alt=\"Open In Colab\"/></a>"
      ]
    },
    {
      "cell_type": "code",
      "execution_count": 10,
      "metadata": {
        "id": "E7X9jRxpNrQu"
      },
      "outputs": [],
      "source": [
        "import numpy as np\n",
        "import cv2 as cv\n",
        "import csv\n",
        "import matplotlib.pyplot as plt"
      ]
    },
    {
      "cell_type": "code",
      "source": [],
      "metadata": {
        "id": "MmiN_rFnNzgR"
      },
      "execution_count": null,
      "outputs": []
    },
    {
      "cell_type": "code",
      "source": [
        "from coco import COCO\n",
        "import numpy as np\n",
        "import matplotlib.pyplot as plt\n",
        "ann_file='/content/drive/MyDrive/TFG/Datasets/Json_Files/traincoco.json'\n",
        "coco=COCO(ann_file)"
      ],
      "metadata": {
        "colab": {
          "base_uri": "https://localhost:8080/"
        },
        "id": "r21s4kl36ELm",
        "outputId": "8c52aa79-2750-4fbb-dffc-94dc31a442ee"
      },
      "execution_count": 4,
      "outputs": [
        {
          "output_type": "stream",
          "name": "stdout",
          "text": [
            "loading annotations into memory...\n",
            "Done (t=7.57s)\n",
            "creating index...\n",
            "index created!\n"
          ]
        }
      ]
    },
    {
      "cell_type": "code",
      "source": [
        "img_ids=coco.getImgIds()"
      ],
      "metadata": {
        "id": "KuG9lMxw6Umo"
      },
      "execution_count": 5,
      "outputs": []
    },
    {
      "cell_type": "code",
      "source": [
        "img_info=coco.loadImgs(img_ids)"
      ],
      "metadata": {
        "id": "mFk9Yj6p6dv5"
      },
      "execution_count": 6,
      "outputs": []
    },
    {
      "cell_type": "code",
      "source": [
        "nombrefiles=[]\n",
        "for i in range(len(img_info)):\n",
        "  nombrefiles.append(img_info[i]['file_name'])"
      ],
      "metadata": {
        "id": "Xbts5lN-6sIW"
      },
      "execution_count": 7,
      "outputs": []
    },
    {
      "cell_type": "code",
      "source": [
        "ListaNombres=[]\n",
        "for i in range(len(nombrefiles)):\n",
        "  ListaNombres.append('/content/drive/MyDrive/TFG/Datasets/Pictures/train/'+nombrefiles[i])"
      ],
      "metadata": {
        "id": "CpBfyKlj6tJ2"
      },
      "execution_count": 8,
      "outputs": []
    },
    {
      "cell_type": "code",
      "source": [
        "Dataset={}"
      ],
      "metadata": {
        "id": "13LdWDwh6woj"
      },
      "execution_count": 9,
      "outputs": []
    },
    {
      "cell_type": "code",
      "source": [
        "for i in range(len(ListaNombres)):\n",
        "  img = cv.imread(ListaNombres[i], cv.IMREAD_GRAYSCALE) # Consider changing ListImages[0] to ListaNombres[i] to iterate through all images\n",
        "  assert img is not None, \"file could not be read, check with os.path.exists()\"\n",
        "  ret,thresh = cv.threshold(img,127,255,0)\n",
        "  contours,hierarchy = cv.findContours(thresh, 1, 2)\n",
        "\n",
        "  cnt = contours[0]\n",
        "  M = cv.moments(cnt)\n",
        "  if M['m00'] == 0:\n",
        "    cx=0\n",
        "    cy=0\n",
        "  else:\n",
        "    cx = int(M['m10']/M['m00'])\n",
        "    cy = int(M['m01']/M['m00'])\n",
        "  area = cv.contourArea(cnt)\n",
        "  perimeter = cv.arcLength(cnt,False)\n",
        "\n",
        "  # Create a nested dictionary for the current image if it doesn't exist\n",
        "  if nombrefiles[i] not in Dataset:\n",
        "    Dataset[nombrefiles[i]] = {}\n",
        "\n",
        "  Dataset[nombrefiles[i]]['cx'] = cx\n",
        "  Dataset[nombrefiles[i]]['cy'] = cy\n",
        "  Dataset[nombrefiles[i]]['area'] = area\n",
        "  Dataset[nombrefiles[i]]['perimeter'] = perimeter"
      ],
      "metadata": {
        "id": "_sIdu666A2Cx"
      },
      "execution_count": 11,
      "outputs": []
    },
    {
      "cell_type": "code",
      "source": [
        "columnasNOIDNOPeso=['cx', 'cy', 'area', 'perimeter']\n",
        "columnasIDNOPeso=['id', 'cx', 'cy', 'area', 'perimeter']"
      ],
      "metadata": {
        "id": "RgQxEOUqEVfV"
      },
      "execution_count": 12,
      "outputs": []
    },
    {
      "cell_type": "code",
      "source": [
        "ids=[]\n",
        "for id in nombrefiles:\n",
        "  ids.append(id[8:12])\n"
      ],
      "metadata": {
        "id": "QtbguATFEysz"
      },
      "execution_count": 13,
      "outputs": []
    },
    {
      "cell_type": "code",
      "source": [
        "coursesNOIDNOPeso=[]\n",
        "for i in range(len(Dataset)):\n",
        "  dic={}\n",
        "  dic['cx']=Dataset[nombrefiles[i]]['cx']\n",
        "  dic['cy']=Dataset[nombrefiles[i]]['cy']\n",
        "  dic['area']=Dataset[nombrefiles[i]]['area']\n",
        "  dic['perimeter']=Dataset[nombrefiles[i]]['perimeter']\n",
        "  coursesNOIDNOPeso.append(dic)"
      ],
      "metadata": {
        "id": "xaRGpbpWEoou"
      },
      "execution_count": 14,
      "outputs": []
    },
    {
      "cell_type": "code",
      "source": [
        "coursesIDNOPeso=[]\n",
        "for i  in range(len(Dataset)):\n",
        "  dic={}\n",
        "  dic['id']=ids[i]\n",
        "  dic['cx']=Dataset[nombrefiles[i]]['cx']\n",
        "  dic['cy']=Dataset[nombrefiles[i]]['cy']\n",
        "  dic['area']=Dataset[nombrefiles[i]]['area']\n",
        "  dic['perimeter']=Dataset[nombrefiles[i]]['perimeter']\n",
        "  coursesIDNOPeso.append(dic)"
      ],
      "metadata": {
        "id": "NVlwQ-QhIOhK"
      },
      "execution_count": 15,
      "outputs": []
    },
    {
      "cell_type": "code",
      "source": [
        "with open('DatasetNOIDNOPeso.csv', 'w', encoding='UTF8', newline='') as f:\n",
        "    writer = csv.DictWriter(f, fieldnames=columnasNOIDNOPeso)\n",
        "    writer.writeheader()\n",
        "    for courseNOIDNOPeso in coursesNOIDNOPeso:\n",
        "        writer.writerow(courseNOIDNOPeso)"
      ],
      "metadata": {
        "id": "7rq1Na9DInYo"
      },
      "execution_count": 16,
      "outputs": []
    },
    {
      "cell_type": "code",
      "source": [
        "with open('DatasetIDNOPeso.csv', 'w', encoding='UTF8', newline='') as f:\n",
        "    writer = csv.DictWriter(f, fieldnames=columnasIDNOPeso)\n",
        "    writer.writeheader()\n",
        "    for courseIDNOPeso in coursesIDNOPeso:\n",
        "        writer.writerow(courseIDNOPeso)"
      ],
      "metadata": {
        "id": "T494JJgHJAhv"
      },
      "execution_count": 17,
      "outputs": []
    }
  ]
}